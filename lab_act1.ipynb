{
 "cells": [
  {
   "cell_type": "markdown",
   "metadata": {},
   "source": [
    "Odlanyehr T. Boral\n",
    "BSCPE 1 - 7\n",
    "\n",
    "Subject: Object oriented Programming ----\n",
    "Lab Activity: Python review ----\n",
    "Deadline: March 16, 2025 11:59pm ----"
   ]
  },
  {
   "cell_type": "markdown",
   "metadata": {},
   "source": [
    "========================================================================================================================"
   ]
  },
  {
   "cell_type": "markdown",
   "metadata": {},
   "source": [
    "1.\tDiamond Shape:\n",
    "\n",
    "Write a Python function named print_diamond that takes an odd integer n as an argument and prints a diamond shape with a width of n using the * character.\n",
    "For n = 5, the output should be:\n",
    "\n",
    "Note: If an even number is passed, the function should return \"Please provide an odd integer.\""
   ]
  },
  {
   "cell_type": "markdown",
   "metadata": {},
   "source": [
    "========================================================================================================================"
   ]
  },
  {
   "cell_type": "markdown",
   "metadata": {},
   "source": [
    "2.\tCreate a program that will delete all duplicate characters in a string \n",
    "Input starts with a number N  and is followed by N strings\n",
    "Output : Print the character with all the duplicate characters removed.\n",
    "\n",
    "Sample Input #1\n",
    "(\n",
    "4 /\n",
    "Harrenhal \n",
    "Drogos /\n",
    "Thoros of Myr /\n",
    "Iron Born /\n",
    ")\n",
    "\n",
    "Sample Output #2\n",
    "(\n",
    "enl /\n",
    "Drgs /\n",
    "ThsfMy /\n",
    "IB /\n",
    ")"
   ]
  },
  {
   "cell_type": "markdown",
   "metadata": {},
   "source": [
    "========================================================================================================================"
   ]
  },
  {
   "cell_type": "markdown",
   "metadata": {},
   "source": [
    "3.\tWhat is the output of the code below: \n",
    "\n",
    "for i in range(2):\n",
    "\n",
    "     for j in range(2):\n",
    "\n",
    "          print(i,j)\n",
    "\n",
    "     else:\n",
    "\n",
    "          print(\"Inner End\")   \n",
    "\n",
    "else:\n",
    "\n",
    "    print(\"Outer End\")            "
   ]
  }
 ],
 "metadata": {
  "language_info": {
   "name": "python"
  }
 },
 "nbformat": 4,
 "nbformat_minor": 2
}
