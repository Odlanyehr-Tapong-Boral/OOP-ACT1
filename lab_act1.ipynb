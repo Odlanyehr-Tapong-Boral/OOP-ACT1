{
 "cells": [
  {
   "cell_type": "markdown",
   "metadata": {},
   "source": [
    "Odlanyehr T. Boral\n",
    "BSCPE 1 - 7\n",
    "\n",
    "Subject: Object oriented Programming ----\n",
    "Lab Activity: Python review ----\n",
    "Deadline: March 16, 2025 11:59pm ----"
   ]
  },
  {
   "cell_type": "markdown",
   "metadata": {},
   "source": [
    "========================================================================================================================"
   ]
  },
  {
   "cell_type": "markdown",
   "metadata": {},
   "source": [
    "1.\tDiamond Shape:\n",
    "\n",
    "Write a Python function named print_diamond that takes an odd integer n as an argument and prints a diamond shape with a width of n using the * character.\n",
    "For n = 5, the output should be:\n",
    "\n",
    "Note: If an even number is passed, the function should return \"Please provide an odd integer.\""
   ]
  },
  {
   "cell_type": "code",
   "execution_count": 30,
   "metadata": {},
   "outputs": [
    {
     "name": "stdout",
     "output_type": "stream",
     "text": [
      "Here is your Diamond:\n",
      "\n",
      "               *\n",
      "              ***\n",
      "             *****\n",
      "            *******\n",
      "           *********\n",
      "          ***********\n",
      "         *************\n",
      "        ***************\n",
      "       *****************\n",
      "      *******************\n",
      "     *********************\n",
      "    ***********************\n",
      "   *************************\n",
      "  ***************************\n",
      " *****************************\n",
      "*******************************\n",
      " *****************************\n",
      "  ***************************\n",
      "   *************************\n",
      "    ***********************\n",
      "     *********************\n",
      "      *******************\n",
      "       *****************\n",
      "        ***************\n",
      "         *************\n",
      "          ***********\n",
      "           *********\n",
      "            *******\n",
      "             *****\n",
      "              ***\n",
      "               *\n"
     ]
    }
   ],
   "source": [
    "def print_diamond(n):\n",
    "    upper_rows = n // 2 + 1\n",
    "    \n",
    "    for i in range(upper_rows):\n",
    "        print(' ' * (upper_rows - i - 1 ),end='')\n",
    "        print('*' * (2 * i + 1))\n",
    "        \n",
    "    for i in range(upper_rows - 1):\n",
    "        print(' ' * (i + 1), end='')\n",
    "        print('*' * (n - 2 * ( i + 1))) \n",
    "        \n",
    "while True:\n",
    "    try:\n",
    "        n = int(input(\"Please enter an odd integer: \"))\n",
    "        if n % 2 == 0:  \n",
    "            print(\"Please provide an odd integer.\")\n",
    "        else:\n",
    "            print(\"Here is your Diamond:\\n\")\n",
    "            print_diamond(n)\n",
    "            break  \n",
    "    except:\n",
    "        print(\"Invalid input. Please enter an integer.\")"
   ]
  },
  {
   "cell_type": "markdown",
   "metadata": {},
   "source": [
    "========================================================================================================================"
   ]
  },
  {
   "cell_type": "markdown",
   "metadata": {},
   "source": [
    "2.\tCreate a program that will delete all duplicate characters in a string \n",
    "Input starts with a number N  and is followed by N strings\n",
    "Output : Print the character with all the duplicate characters removed.\n",
    "\n",
    "Sample Input #1\n",
    "(\n",
    "4 /\n",
    "Harrenhal \n",
    "Drogos /\n",
    "Thoros of Myr /\n",
    "Iron Born /\n",
    ")\n",
    "\n",
    "Sample Output #2\n",
    "(\n",
    "enl /\n",
    "Drgs /\n",
    "ThsfMy /\n",
    "IB /\n",
    ")"
   ]
  },
  {
   "cell_type": "markdown",
   "metadata": {},
   "source": [
    "========================================================================================================================"
   ]
  },
  {
   "cell_type": "markdown",
   "metadata": {},
   "source": [
    "3.\tWhat is the output of the code below: \n",
    "\n",
    "for i in range(2):\n",
    "\n",
    "     for j in range(2):\n",
    "\n",
    "          print(i,j)\n",
    "\n",
    "     else:\n",
    "\n",
    "          print(\"Inner End\")   \n",
    "\n",
    "else:\n",
    "\n",
    "    print(\"Outer End\")            "
   ]
  }
 ],
 "metadata": {
  "kernelspec": {
   "display_name": "Python 3",
   "language": "python",
   "name": "python3"
  },
  "language_info": {
   "codemirror_mode": {
    "name": "ipython",
    "version": 3
   },
   "file_extension": ".py",
   "mimetype": "text/x-python",
   "name": "python",
   "nbconvert_exporter": "python",
   "pygments_lexer": "ipython3",
   "version": "3.12.6"
  }
 },
 "nbformat": 4,
 "nbformat_minor": 2
}
